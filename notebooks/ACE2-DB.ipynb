{
 "cells": [
  {
   "cell_type": "code",
   "execution_count": 1,
   "metadata": {},
   "outputs": [],
   "source": [
    "from pymongo import MongoClient\n",
    "import pprint"
   ]
  },
  {
   "cell_type": "code",
   "execution_count": 2,
   "metadata": {},
   "outputs": [],
   "source": [
    "client = MongoClient(\"mongodb://94.237.65.67:37017\")\n",
    "qmsdata = client['acedb']['qms']"
   ]
  },
  {
   "cell_type": "code",
   "execution_count": 3,
   "metadata": {},
   "outputs": [],
   "source": [
    "from datetime import datetime\n",
    "today = datetime.now()\n",
    "today = today.strftime(\"%Y%m%d\")"
   ]
  },
  {
   "cell_type": "code",
   "execution_count": 4,
   "metadata": {},
   "outputs": [],
   "source": [
    "todaydata = qmsdata.find({\"date\" : { \"$eq\" : today}}) \n",
    "firstdaydata = qmsdata.find({\"date\" : { \"$eq\" : \"20190101\"}}  ) "
   ]
  },
  {
   "cell_type": "code",
   "execution_count": null,
   "metadata": {},
   "outputs": [],
   "source": [
    "firstdaydata.count()"
   ]
  },
  {
   "cell_type": "code",
   "execution_count": 5,
   "metadata": {},
   "outputs": [],
   "source": [
    "todaydata_l = list(todaydata)\n",
    "firstdaydata_l = list(firstdaydata)\n",
    "data = []\n",
    "for each in todaydata_l:\n",
    "    for item in firstdaydata_l:\n",
    "        if each['premise_name'] == item['premise_name']:\n",
    "            data_today = each['qms_data'][len(each['qms_data'])-1]\n",
    "            data_first = item['qms_data'][len(item['qms_data'])-1]\n",
    "            if data_first['serveCount']==data_today['serveCount']:\n",
    "                data.append({\"premise_name\":each['premise_name'],\"serveCount\":data_today['serveCount']})\n",
    "            \n",
    "    "
   ]
  },
  {
   "cell_type": "code",
   "execution_count": 6,
   "metadata": {},
   "outputs": [
    {
     "name": "stdout",
     "output_type": "stream",
     "text": [
      "0\n"
     ]
    }
   ],
   "source": [
    "# pprint.pprint(firstdaydata[0])\n",
    "# print(len(data))\n",
    "premise_list =[]\n",
    "for each in data:\n",
    "    if each['serveCount']!=0:\n",
    "        premise_list.append(each['premise_name'])\n",
    "print(len(premise_list))\n"
   ]
  },
  {
   "cell_type": "code",
   "execution_count": 8,
   "metadata": {},
   "outputs": [
    {
     "name": "stdout",
     "output_type": "stream",
     "text": [
      "[{'premise_name': 'TAD Gunung Rapat', 'serveCount': 0},\n",
      " {'premise_name': 'TAD Kelana Jaya', 'serveCount': 0},\n",
      " {'premise_name': 'TAD Kota Belud', 'serveCount': 0},\n",
      " {'premise_name': 'TAD Melaka Raya', 'serveCount': 0},\n",
      " {'premise_name': 'TAD Meru Bestari', 'serveCount': 0},\n",
      " {'premise_name': 'TAD Prima Saujana', 'serveCount': 0},\n",
      " {'premise_name': 'TAD Shah Alam S7', 'serveCount': 0},\n",
      " {'premise_name': 'TAD UTC KL', 'serveCount': 0},\n",
      " {'premise_name': 'TAD UTC Kuching', 'serveCount': 0},\n",
      " {'premise_name': 'TAD Wangsa Maju', 'serveCount': 0},\n",
      " {'premise_name': 'TMpoint Pontian', 'serveCount': 0},\n",
      " {'premise_name': 'TMpoint Quill Mall', 'serveCount': 0},\n",
      " {'premise_name': 'TMpoint Rawang', 'serveCount': 0},\n",
      " {'premise_name': 'TMpoint Seremban', 'serveCount': 0},\n",
      " {'premise_name': 'TMpoint Sungai Bakap', 'serveCount': 0}]\n"
     ]
    }
   ],
   "source": [
    "pprint.pprint(data)"
   ]
  }
 ],
 "metadata": {
  "kernelspec": {
   "display_name": "Python 3",
   "language": "python",
   "name": "python3"
  },
  "language_info": {
   "codemirror_mode": {
    "name": "ipython",
    "version": 3
   },
   "file_extension": ".py",
   "mimetype": "text/x-python",
   "name": "python",
   "nbconvert_exporter": "python",
   "pygments_lexer": "ipython3",
   "version": "3.7.0"
  }
 },
 "nbformat": 4,
 "nbformat_minor": 2
}
