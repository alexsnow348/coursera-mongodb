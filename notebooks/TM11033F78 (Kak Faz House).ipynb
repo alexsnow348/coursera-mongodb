{
 "cells": [
  {
   "cell_type": "code",
   "execution_count": 1,
   "metadata": {},
   "outputs": [],
   "source": [
    "from pymongo import MongoClient\n",
    "import pprint"
   ]
  },
  {
   "cell_type": "code",
   "execution_count": 2,
   "metadata": {},
   "outputs": [],
   "source": [
    "client = MongoClient(\"mongodb://94.237.68.189:37017\")\n",
    "sensordata = client['db_eLive']['sensordata']"
   ]
  },
  {
   "cell_type": "code",
   "execution_count": 15,
   "metadata": {},
   "outputs": [],
   "source": [
    "from datetime import datetime\n",
    "today = datetime.now()\n",
    "today = today.strftime(\"%Y%m%d\")"
   ]
  },
  {
   "cell_type": "code",
   "execution_count": 29,
   "metadata": {},
   "outputs": [],
   "source": [
    "faz = sensordata.find( {\"date\" : { \"$eq\" : today }, \"sensorId\":{ \"$eq\" :\"TM11033F78\"}} ) "
   ]
  },
  {
   "cell_type": "code",
   "execution_count": 14,
   "metadata": {},
   "outputs": [
    {
     "name": "stderr",
     "output_type": "stream",
     "text": [
      "/home/wuthmone/miniconda3/lib/python3.7/site-packages/ipykernel_launcher.py:1: DeprecationWarning: count is deprecated. Use Collection.count_documents instead.\n",
      "  \"\"\"Entry point for launching an IPython kernel.\n"
     ]
    },
    {
     "data": {
      "text/plain": [
       "1"
      ]
     },
     "execution_count": 14,
     "metadata": {},
     "output_type": "execute_result"
    }
   ],
   "source": [
    "faz.count()"
   ]
  },
  {
   "cell_type": "code",
   "execution_count": 30,
   "metadata": {},
   "outputs": [],
   "source": [
    "# pprint.pprint(list(faz))\n",
    "data = []\n",
    "for each in faz:\n",
    "    data.append(each['data'])\n",
    "    "
   ]
  },
  {
   "cell_type": "code",
   "execution_count": 31,
   "metadata": {},
   "outputs": [
    {
     "name": "stdout",
     "output_type": "stream",
     "text": [
      "22956\n"
     ]
    }
   ],
   "source": [
    "# pprint.pprint(data[0])\n",
    "print(len(data[0]))\n"
   ]
  },
  {
   "cell_type": "code",
   "execution_count": 36,
   "metadata": {},
   "outputs": [
    {
     "data": {
      "text/html": [
       "<div>\n",
       "<style scoped>\n",
       "    .dataframe tbody tr th:only-of-type {\n",
       "        vertical-align: middle;\n",
       "    }\n",
       "\n",
       "    .dataframe tbody tr th {\n",
       "        vertical-align: top;\n",
       "    }\n",
       "\n",
       "    .dataframe thead th {\n",
       "        text-align: right;\n",
       "    }\n",
       "</style>\n",
       "<table border=\"1\" class=\"dataframe\">\n",
       "  <thead>\n",
       "    <tr style=\"text-align: right;\">\n",
       "      <th></th>\n",
       "      <th>activepower</th>\n",
       "      <th>apparentpower</th>\n",
       "      <th>current</th>\n",
       "      <th>dateTime</th>\n",
       "      <th>deviceId</th>\n",
       "      <th>inputTime</th>\n",
       "      <th>powerfactor</th>\n",
       "      <th>voltage</th>\n",
       "    </tr>\n",
       "  </thead>\n",
       "  <tbody>\n",
       "    <tr>\n",
       "      <th>0</th>\n",
       "      <td>1029</td>\n",
       "      <td>1042.624</td>\n",
       "      <td>4.215</td>\n",
       "      <td>1545927266</td>\n",
       "      <td>Phase1</td>\n",
       "      <td>1545926400</td>\n",
       "      <td>0.987</td>\n",
       "      <td>247.344</td>\n",
       "    </tr>\n",
       "    <tr>\n",
       "      <th>1</th>\n",
       "      <td>356</td>\n",
       "      <td>417.445</td>\n",
       "      <td>1.688</td>\n",
       "      <td>1545927266</td>\n",
       "      <td>Phase2</td>\n",
       "      <td>1545926400</td>\n",
       "      <td>0.853</td>\n",
       "      <td>247.264</td>\n",
       "    </tr>\n",
       "    <tr>\n",
       "      <th>2</th>\n",
       "      <td>1112</td>\n",
       "      <td>1112.218</td>\n",
       "      <td>4.482</td>\n",
       "      <td>1545927266</td>\n",
       "      <td>Phase3</td>\n",
       "      <td>1545926400</td>\n",
       "      <td>1.000</td>\n",
       "      <td>248.167</td>\n",
       "    </tr>\n",
       "    <tr>\n",
       "      <th>3</th>\n",
       "      <td>1028</td>\n",
       "      <td>1041.476</td>\n",
       "      <td>4.211</td>\n",
       "      <td>1545927276</td>\n",
       "      <td>Phase1</td>\n",
       "      <td>1545926410</td>\n",
       "      <td>0.987</td>\n",
       "      <td>247.314</td>\n",
       "    </tr>\n",
       "    <tr>\n",
       "      <th>4</th>\n",
       "      <td>356</td>\n",
       "      <td>417.445</td>\n",
       "      <td>1.687</td>\n",
       "      <td>1545927276</td>\n",
       "      <td>Phase2</td>\n",
       "      <td>1545926410</td>\n",
       "      <td>0.853</td>\n",
       "      <td>247.403</td>\n",
       "    </tr>\n",
       "    <tr>\n",
       "      <th>5</th>\n",
       "      <td>1111</td>\n",
       "      <td>1111.198</td>\n",
       "      <td>4.475</td>\n",
       "      <td>1545927276</td>\n",
       "      <td>Phase3</td>\n",
       "      <td>1545926410</td>\n",
       "      <td>1.000</td>\n",
       "      <td>248.293</td>\n",
       "    </tr>\n",
       "    <tr>\n",
       "      <th>6</th>\n",
       "      <td>1027</td>\n",
       "      <td>1040.329</td>\n",
       "      <td>4.209</td>\n",
       "      <td>1545927286</td>\n",
       "      <td>Phase1</td>\n",
       "      <td>1545926420</td>\n",
       "      <td>0.987</td>\n",
       "      <td>247.195</td>\n",
       "    </tr>\n",
       "    <tr>\n",
       "      <th>7</th>\n",
       "      <td>356</td>\n",
       "      <td>417.445</td>\n",
       "      <td>1.688</td>\n",
       "      <td>1545927286</td>\n",
       "      <td>Phase2</td>\n",
       "      <td>1545926420</td>\n",
       "      <td>0.853</td>\n",
       "      <td>247.283</td>\n",
       "    </tr>\n",
       "    <tr>\n",
       "      <th>8</th>\n",
       "      <td>1111</td>\n",
       "      <td>1111.198</td>\n",
       "      <td>4.476</td>\n",
       "      <td>1545927286</td>\n",
       "      <td>Phase3</td>\n",
       "      <td>1545926420</td>\n",
       "      <td>1.000</td>\n",
       "      <td>248.240</td>\n",
       "    </tr>\n",
       "    <tr>\n",
       "      <th>9</th>\n",
       "      <td>1025</td>\n",
       "      <td>1038.515</td>\n",
       "      <td>4.200</td>\n",
       "      <td>1545927296</td>\n",
       "      <td>Phase1</td>\n",
       "      <td>1545926435</td>\n",
       "      <td>0.987</td>\n",
       "      <td>247.246</td>\n",
       "    </tr>\n",
       "  </tbody>\n",
       "</table>\n",
       "</div>"
      ],
      "text/plain": [
       "   activepower  apparentpower  current    dateTime deviceId   inputTime  \\\n",
       "0         1029       1042.624    4.215  1545927266   Phase1  1545926400   \n",
       "1          356        417.445    1.688  1545927266   Phase2  1545926400   \n",
       "2         1112       1112.218    4.482  1545927266   Phase3  1545926400   \n",
       "3         1028       1041.476    4.211  1545927276   Phase1  1545926410   \n",
       "4          356        417.445    1.687  1545927276   Phase2  1545926410   \n",
       "5         1111       1111.198    4.475  1545927276   Phase3  1545926410   \n",
       "6         1027       1040.329    4.209  1545927286   Phase1  1545926420   \n",
       "7          356        417.445    1.688  1545927286   Phase2  1545926420   \n",
       "8         1111       1111.198    4.476  1545927286   Phase3  1545926420   \n",
       "9         1025       1038.515    4.200  1545927296   Phase1  1545926435   \n",
       "\n",
       "   powerfactor  voltage  \n",
       "0        0.987  247.344  \n",
       "1        0.853  247.264  \n",
       "2        1.000  248.167  \n",
       "3        0.987  247.314  \n",
       "4        0.853  247.403  \n",
       "5        1.000  248.293  \n",
       "6        0.987  247.195  \n",
       "7        0.853  247.283  \n",
       "8        1.000  248.240  \n",
       "9        0.987  247.246  "
      ]
     },
     "execution_count": 36,
     "metadata": {},
     "output_type": "execute_result"
    }
   ],
   "source": [
    "import pandas as pd\n",
    "data_df = pd.DataFrame(data[0])\n",
    "data_df.head(10)\n"
   ]
  }
 ],
 "metadata": {
  "kernelspec": {
   "display_name": "Python 3",
   "language": "python",
   "name": "python3"
  },
  "language_info": {
   "codemirror_mode": {
    "name": "ipython",
    "version": 3
   },
   "file_extension": ".py",
   "mimetype": "text/x-python",
   "name": "python",
   "nbconvert_exporter": "python",
   "pygments_lexer": "ipython3",
   "version": "3.7.0"
  }
 },
 "nbformat": 4,
 "nbformat_minor": 2
}
